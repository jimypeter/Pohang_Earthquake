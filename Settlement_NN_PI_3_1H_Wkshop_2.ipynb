{
  "nbformat": 4,
  "nbformat_minor": 0,
  "metadata": {
    "colab": {
      "name": "Settlement_NN_PI-3_1H_Wkshop_2.ipynb",
      "provenance": [],
      "collapsed_sections": [],
      "include_colab_link": true
    },
    "kernelspec": {
      "name": "python3",
      "display_name": "Python 3"
    },
    "accelerator": "GPU"
  },
  "cells": [
    {
      "cell_type": "markdown",
      "metadata": {
        "id": "view-in-github",
        "colab_type": "text"
      },
      "source": [
        "<a href=\"https://colab.research.google.com/github/jimypeter/Pohang_Earthquake/blob/master/Settlement_NN_PI_3_1H_Wkshop_2.ipynb\" target=\"_parent\"><img src=\"https://colab.research.google.com/assets/colab-badge.svg\" alt=\"Open In Colab\"/></a>"
      ]
    },
    {
      "cell_type": "code",
      "metadata": {
        "id": "O8d_gU4Y6vrQ"
      },
      "source": [
        "# !pip install -U -q PyDrive"
      ],
      "execution_count": null,
      "outputs": []
    },
    {
      "cell_type": "code",
      "metadata": {
        "id": "xiWNk1kc7Czv"
      },
      "source": [
        "from pydrive.auth import GoogleAuth\n",
        "from pydrive.drive import GoogleDrive\n",
        "from google.colab import auth\n",
        "from oauth2client.client import GoogleCredentials"
      ],
      "execution_count": null,
      "outputs": []
    },
    {
      "cell_type": "code",
      "metadata": {
        "id": "Gkf4SKkP7GWd"
      },
      "source": [
        "# Authenticate and create the PyDrive client.\n",
        "auth.authenticate_user()\n",
        "gauth = GoogleAuth()\n",
        "gauth.credentials = GoogleCredentials.get_application_default()\n",
        "drive = GoogleDrive(gauth)"
      ],
      "execution_count": null,
      "outputs": []
    },
    {
      "cell_type": "code",
      "metadata": {
        "id": "8X_q0v2a7MTs"
      },
      "source": [
        "#!pip install keras\n",
        "#!pip install tensorflow\n",
        "#!pip install seaborn\n",
        "#!pip uninstall tensorflow==2.0.0\n",
        "# !pip3 install ann_visualizer\n",
        "# !pip install graphviz\n",
        "# !sudo apt-get install graphviz\n",
        "# !pip3 install graphviz\n",
        "# !apt-get install xdg-utils\n",
        "# import os\n",
        "# os.environ[\"PATH\"] += os.pathsep + 'C:\\Program Files (x86)\\Graphviz2.38\\bin'\n",
        "#import tensorflow as tf\n",
        "#print(tf.__version__)\n",
        "#!pip install tensorflow==1.14"
      ],
      "execution_count": null,
      "outputs": []
    },
    {
      "cell_type": "code",
      "metadata": {
        "id": "4bj_EX727_mn",
        "colab": {
          "base_uri": "https://localhost:8080/",
          "height": 34
        },
        "outputId": "6da641ce-afb7-4a03-89bf-bf6ca9a0f17c"
      },
      "source": [
        " # The shareable link\n",
        "link = 'https://drive.google.com/open?id=1NCrd_ES9mPUM3WM_ws2D3dY6HwkaXXze'\n",
        "fluff, id = link.split('=')\n",
        "\n",
        "# Verify that you have everything after '='\n",
        "print (id) "
      ],
      "execution_count": null,
      "outputs": [
        {
          "output_type": "stream",
          "text": [
            "1NCrd_ES9mPUM3WM_ws2D3dY6HwkaXXze\n"
          ],
          "name": "stdout"
        }
      ]
    },
    {
      "cell_type": "code",
      "metadata": {
        "id": "p4oJkw9N8KF2",
        "colab": {
          "base_uri": "https://localhost:8080/",
          "height": 81
        },
        "outputId": "426bc5e3-0618-4fbb-fbd6-9d2de6ddab69"
      },
      "source": [
        "import numpy as np\n",
        "import pandas as pd \n",
        "import matplotlib.pyplot as plt\n",
        "import seaborn as sns\n",
        "import sklearn\n",
        "import keras\n",
        "import tensorflow as tf\n",
        "from tensorflow import keras\n",
        "from pylab import rcParams\n",
        "from matplotlib import rc\n",
        "%matplotlib inline\n",
        "rcParams['figure.figsize'] = 10, 5"
      ],
      "execution_count": null,
      "outputs": [
        {
          "output_type": "stream",
          "text": [
            "Using TensorFlow backend.\n"
          ],
          "name": "stderr"
        },
        {
          "output_type": "display_data",
          "data": {
            "text/html": [
              "<p style=\"color: red;\">\n",
              "The default version of TensorFlow in Colab will soon switch to TensorFlow 2.x.<br>\n",
              "We recommend you <a href=\"https://www.tensorflow.org/guide/migrate\" target=\"_blank\">upgrade</a> now \n",
              "or ensure your notebook will continue to use TensorFlow 1.x via the <code>%tensorflow_version 1.x</code> magic:\n",
              "<a href=\"https://colab.research.google.com/notebooks/tensorflow_version.ipynb\" target=\"_blank\">more info</a>.</p>\n"
            ],
            "text/plain": [
              "<IPython.core.display.HTML object>"
            ]
          },
          "metadata": {
            "tags": []
          }
        }
      ]
    },
    {
      "cell_type": "code",
      "metadata": {
        "id": "NT28vD038SZ9",
        "colab": {
          "base_uri": "https://localhost:8080/",
          "height": 197
        },
        "outputId": "5dbed4fc-3c53-462e-ee88-2693249ee0ff"
      },
      "source": [
        "#Load dataset\n",
        "downloaded = drive.CreateFile({'id':id}) \n",
        "downloaded.GetContentFile('Numerical_settlement_Pohang_Wkshop.csv') \n",
        "data = pd.read_csv('Numerical_settlement_Pohang_Wkshop.csv', header=0)\n",
        "data.head()"
      ],
      "execution_count": null,
      "outputs": [
        {
          "output_type": "execute_result",
          "data": {
            "text/html": [
              "<div>\n",
              "<style scoped>\n",
              "    .dataframe tbody tr th:only-of-type {\n",
              "        vertical-align: middle;\n",
              "    }\n",
              "\n",
              "    .dataframe tbody tr th {\n",
              "        vertical-align: top;\n",
              "    }\n",
              "\n",
              "    .dataframe thead th {\n",
              "        text-align: right;\n",
              "    }\n",
              "</style>\n",
              "<table border=\"1\" class=\"dataframe\">\n",
              "  <thead>\n",
              "    <tr style=\"text-align: right;\">\n",
              "      <th></th>\n",
              "      <th>Depth (m)</th>\n",
              "      <th>Unit Weight (kN/m3)</th>\n",
              "      <th>N1(60)</th>\n",
              "      <th>CSR</th>\n",
              "      <th>Settlement (mm)</th>\n",
              "    </tr>\n",
              "  </thead>\n",
              "  <tbody>\n",
              "    <tr>\n",
              "      <th>0</th>\n",
              "      <td>1</td>\n",
              "      <td>20</td>\n",
              "      <td>11</td>\n",
              "      <td>0.33</td>\n",
              "      <td>0.5</td>\n",
              "    </tr>\n",
              "    <tr>\n",
              "      <th>1</th>\n",
              "      <td>2</td>\n",
              "      <td>20</td>\n",
              "      <td>11</td>\n",
              "      <td>0.31</td>\n",
              "      <td>0.5</td>\n",
              "    </tr>\n",
              "    <tr>\n",
              "      <th>2</th>\n",
              "      <td>3</td>\n",
              "      <td>20</td>\n",
              "      <td>14</td>\n",
              "      <td>0.29</td>\n",
              "      <td>0.8</td>\n",
              "    </tr>\n",
              "    <tr>\n",
              "      <th>3</th>\n",
              "      <td>4</td>\n",
              "      <td>20</td>\n",
              "      <td>16</td>\n",
              "      <td>0.28</td>\n",
              "      <td>1.4</td>\n",
              "    </tr>\n",
              "    <tr>\n",
              "      <th>4</th>\n",
              "      <td>5</td>\n",
              "      <td>20</td>\n",
              "      <td>5</td>\n",
              "      <td>0.27</td>\n",
              "      <td>3.3</td>\n",
              "    </tr>\n",
              "  </tbody>\n",
              "</table>\n",
              "</div>"
            ],
            "text/plain": [
              "   Depth (m)  Unit Weight (kN/m3)  N1(60)   CSR  Settlement (mm)\n",
              "0          1                   20      11  0.33              0.5\n",
              "1          2                   20      11  0.31              0.5\n",
              "2          3                   20      14  0.29              0.8\n",
              "3          4                   20      16  0.28              1.4\n",
              "4          5                   20       5  0.27              3.3"
            ]
          },
          "metadata": {
            "tags": []
          },
          "execution_count": 7
        }
      ]
    },
    {
      "cell_type": "code",
      "metadata": {
        "id": "CL3DheJ68lMK",
        "colab": {
          "base_uri": "https://localhost:8080/",
          "height": 34
        },
        "outputId": "15ba9076-70ee-449b-c498-122a430c5cfc"
      },
      "source": [
        "data.shape"
      ],
      "execution_count": null,
      "outputs": [
        {
          "output_type": "execute_result",
          "data": {
            "text/plain": [
              "(100, 5)"
            ]
          },
          "metadata": {
            "tags": []
          },
          "execution_count": 8
        }
      ]
    },
    {
      "cell_type": "code",
      "metadata": {
        "id": "KfcfWIYS8s3f",
        "colab": {
          "base_uri": "https://localhost:8080/",
          "height": 287
        },
        "outputId": "ffb5b428-8da9-4b67-ad88-8df4e791a153"
      },
      "source": [
        "data.describe()"
      ],
      "execution_count": null,
      "outputs": [
        {
          "output_type": "execute_result",
          "data": {
            "text/html": [
              "<div>\n",
              "<style scoped>\n",
              "    .dataframe tbody tr th:only-of-type {\n",
              "        vertical-align: middle;\n",
              "    }\n",
              "\n",
              "    .dataframe tbody tr th {\n",
              "        vertical-align: top;\n",
              "    }\n",
              "\n",
              "    .dataframe thead th {\n",
              "        text-align: right;\n",
              "    }\n",
              "</style>\n",
              "<table border=\"1\" class=\"dataframe\">\n",
              "  <thead>\n",
              "    <tr style=\"text-align: right;\">\n",
              "      <th></th>\n",
              "      <th>Depth (m)</th>\n",
              "      <th>Unit Weight (kN/m3)</th>\n",
              "      <th>N1(60)</th>\n",
              "      <th>CSR</th>\n",
              "      <th>Settlement (mm)</th>\n",
              "    </tr>\n",
              "  </thead>\n",
              "  <tbody>\n",
              "    <tr>\n",
              "      <th>count</th>\n",
              "      <td>100.000000</td>\n",
              "      <td>100.000000</td>\n",
              "      <td>100.000000</td>\n",
              "      <td>100.000000</td>\n",
              "      <td>100.000000</td>\n",
              "    </tr>\n",
              "    <tr>\n",
              "      <th>mean</th>\n",
              "      <td>10.500000</td>\n",
              "      <td>18.960000</td>\n",
              "      <td>13.620000</td>\n",
              "      <td>0.314300</td>\n",
              "      <td>0.898000</td>\n",
              "    </tr>\n",
              "    <tr>\n",
              "      <th>std</th>\n",
              "      <td>5.795331</td>\n",
              "      <td>1.869046</td>\n",
              "      <td>8.722177</td>\n",
              "      <td>0.044523</td>\n",
              "      <td>0.873629</td>\n",
              "    </tr>\n",
              "    <tr>\n",
              "      <th>min</th>\n",
              "      <td>1.000000</td>\n",
              "      <td>16.000000</td>\n",
              "      <td>0.000000</td>\n",
              "      <td>0.210000</td>\n",
              "      <td>0.000000</td>\n",
              "    </tr>\n",
              "    <tr>\n",
              "      <th>25%</th>\n",
              "      <td>5.750000</td>\n",
              "      <td>18.000000</td>\n",
              "      <td>7.000000</td>\n",
              "      <td>0.290000</td>\n",
              "      <td>0.300000</td>\n",
              "    </tr>\n",
              "    <tr>\n",
              "      <th>50%</th>\n",
              "      <td>10.500000</td>\n",
              "      <td>20.000000</td>\n",
              "      <td>11.000000</td>\n",
              "      <td>0.320000</td>\n",
              "      <td>0.600000</td>\n",
              "    </tr>\n",
              "    <tr>\n",
              "      <th>75%</th>\n",
              "      <td>15.250000</td>\n",
              "      <td>21.000000</td>\n",
              "      <td>25.000000</td>\n",
              "      <td>0.340000</td>\n",
              "      <td>1.400000</td>\n",
              "    </tr>\n",
              "    <tr>\n",
              "      <th>max</th>\n",
              "      <td>20.000000</td>\n",
              "      <td>21.000000</td>\n",
              "      <td>25.000000</td>\n",
              "      <td>0.390000</td>\n",
              "      <td>3.400000</td>\n",
              "    </tr>\n",
              "  </tbody>\n",
              "</table>\n",
              "</div>"
            ],
            "text/plain": [
              "        Depth (m)  Unit Weight (kN/m3)      N1(60)         CSR  Settlement (mm)\n",
              "count  100.000000           100.000000  100.000000  100.000000       100.000000\n",
              "mean    10.500000            18.960000   13.620000    0.314300         0.898000\n",
              "std      5.795331             1.869046    8.722177    0.044523         0.873629\n",
              "min      1.000000            16.000000    0.000000    0.210000         0.000000\n",
              "25%      5.750000            18.000000    7.000000    0.290000         0.300000\n",
              "50%     10.500000            20.000000   11.000000    0.320000         0.600000\n",
              "75%     15.250000            21.000000   25.000000    0.340000         1.400000\n",
              "max     20.000000            21.000000   25.000000    0.390000         3.400000"
            ]
          },
          "metadata": {
            "tags": []
          },
          "execution_count": 9
        }
      ]
    },
    {
      "cell_type": "code",
      "metadata": {
        "id": "_kqO5vFw8v92",
        "colab": {
          "base_uri": "https://localhost:8080/",
          "height": 374
        },
        "outputId": "a128868f-1e70-4331-9ef2-2a0e2d9bff88"
      },
      "source": [
        "# Knowing The Data\n",
        "#Correlation heatmap\n",
        "corr = data.corr()\n",
        "plt.figure(figsize=(12, 10))\n",
        "\n",
        "sns.heatmap(corr,xticklabels=True,yticklabels=True,annot = True,cmap ='coolwarm', square=True)///\n",
        "sns.heatmap(corr,xticklabels=True,yticklabels=True,annot = True,cmap ='coolwarm', square=True)\n",
        "plt.title(\"Correlation Between Variables\")\n",
        "plt.savefig('2.png')\n",
        "\n",
        "# pair Plot\n",
        "# sns.pairplot(data,palette=\"husl\",diag_kind=\"kde\")\n",
        "# plt.savefig('2.png')"
      ],
      "execution_count": null,
      "outputs": [
        {
          "output_type": "display_data",
          "data": {
            "image/png": "[encoded data removed]",
            "text/plain": [
              "<Figure size 432x288 with 2 Axes>"
            ]
          },
          "metadata": {
            "tags": []
          }
        }
      ]
    },
    {
      "cell_type": "code",
      "metadata": {
        "id": "iF0o4rXY81PG",
        "colab": {
          "base_uri": "https://localhost:8080/",
          "height": 606
        },
        "outputId": "e4dc1a7d-904e-4a62-aebb-97a6ad3a5080"
      },
      "source": [
        "%matplotlib inline\n",
        "data.hist(figsize=(15,10))\n",
        "plt.show()"
      ],
      "execution_count": null,
      "outputs": [
        {
          "output_type": "display_data",
          "data": {
            "image/png": "[encoded data removed]",
            "text/plain": [
              "<Figure size 1080x720 with 6 Axes>"
            ]
          },
          "metadata": {
            "tags": []
          }
        }
      ]
    },
    {
      "cell_type": "code",
      "metadata": {
        "id": "z621zi3i85oO"
      },
      "source": [
        "# x_org = data.drop(['Unit Weight (kN/m3)','Settlement (mm)'],axis=1)\n",
        "x_org = data.drop(['Settlement (mm)'], axis=1)\n",
        "y_org = data['Settlement (mm)'].values"
      ],
      "execution_count": null,
      "outputs": []
    },
    {
      "cell_type": "code",
      "metadata": {
        "id": "jE30vWPIJqMh",
        "colab": {
          "base_uri": "https://localhost:8080/",
          "height": 406
        },
        "outputId": "b50c9455-8eef-4654-e94f-b985f2d5be88"
      },
      "source": [
        "x_org"
      ],
      "execution_count": null,
      "outputs": [
        {
          "output_type": "execute_result",
          "data": {
            "text/html": [
              "<div>\n",
              "<style scoped>\n",
              "    .dataframe tbody tr th:only-of-type {\n",
              "        vertical-align: middle;\n",
              "    }\n",
              "\n",
              "    .dataframe tbody tr th {\n",
              "        vertical-align: top;\n",
              "    }\n",
              "\n",
              "    .dataframe thead th {\n",
              "        text-align: right;\n",
              "    }\n",
              "</style>\n",
              "<table border=\"1\" class=\"dataframe\">\n",
              "  <thead>\n",
              "    <tr style=\"text-align: right;\">\n",
              "      <th></th>\n",
              "      <th>Depth (m)</th>\n",
              "      <th>Unit Weight (kN/m3)</th>\n",
              "      <th>N1(60)</th>\n",
              "      <th>CSR</th>\n",
              "    </tr>\n",
              "  </thead>\n",
              "  <tbody>\n",
              "    <tr>\n",
              "      <th>0</th>\n",
              "      <td>1</td>\n",
              "      <td>20</td>\n",
              "      <td>11</td>\n",
              "      <td>0.33</td>\n",
              "    </tr>\n",
              "    <tr>\n",
              "      <th>1</th>\n",
              "      <td>2</td>\n",
              "      <td>20</td>\n",
              "      <td>11</td>\n",
              "      <td>0.31</td>\n",
              "    </tr>\n",
              "    <tr>\n",
              "      <th>2</th>\n",
              "      <td>3</td>\n",
              "      <td>20</td>\n",
              "      <td>14</td>\n",
              "      <td>0.29</td>\n",
              "    </tr>\n",
              "    <tr>\n",
              "      <th>3</th>\n",
              "      <td>4</td>\n",
              "      <td>20</td>\n",
              "      <td>16</td>\n",
              "      <td>0.28</td>\n",
              "    </tr>\n",
              "    <tr>\n",
              "      <th>4</th>\n",
              "      <td>5</td>\n",
              "      <td>20</td>\n",
              "      <td>5</td>\n",
              "      <td>0.27</td>\n",
              "    </tr>\n",
              "    <tr>\n",
              "      <th>...</th>\n",
              "      <td>...</td>\n",
              "      <td>...</td>\n",
              "      <td>...</td>\n",
              "      <td>...</td>\n",
              "    </tr>\n",
              "    <tr>\n",
              "      <th>95</th>\n",
              "      <td>16</td>\n",
              "      <td>18</td>\n",
              "      <td>11</td>\n",
              "      <td>0.33</td>\n",
              "    </tr>\n",
              "    <tr>\n",
              "      <th>96</th>\n",
              "      <td>17</td>\n",
              "      <td>18</td>\n",
              "      <td>12</td>\n",
              "      <td>0.32</td>\n",
              "    </tr>\n",
              "    <tr>\n",
              "      <th>97</th>\n",
              "      <td>18</td>\n",
              "      <td>16</td>\n",
              "      <td>14</td>\n",
              "      <td>0.32</td>\n",
              "    </tr>\n",
              "    <tr>\n",
              "      <th>98</th>\n",
              "      <td>19</td>\n",
              "      <td>16</td>\n",
              "      <td>10</td>\n",
              "      <td>0.32</td>\n",
              "    </tr>\n",
              "    <tr>\n",
              "      <th>99</th>\n",
              "      <td>20</td>\n",
              "      <td>16</td>\n",
              "      <td>7</td>\n",
              "      <td>0.32</td>\n",
              "    </tr>\n",
              "  </tbody>\n",
              "</table>\n",
              "<p>100 rows × 4 columns</p>\n",
              "</div>"
            ],
            "text/plain": [
              "    Depth (m)  Unit Weight (kN/m3)  N1(60)   CSR\n",
              "0           1                   20      11  0.33\n",
              "1           2                   20      11  0.31\n",
              "2           3                   20      14  0.29\n",
              "3           4                   20      16  0.28\n",
              "4           5                   20       5  0.27\n",
              "..        ...                  ...     ...   ...\n",
              "95         16                   18      11  0.33\n",
              "96         17                   18      12  0.32\n",
              "97         18                   16      14  0.32\n",
              "98         19                   16      10  0.32\n",
              "99         20                   16       7  0.32\n",
              "\n",
              "[100 rows x 4 columns]"
            ]
          },
          "metadata": {
            "tags": []
          },
          "execution_count": 34
        }
      ]
    },
    {
      "cell_type": "code",
      "metadata": {
        "id": "c9mkWuB09Hu_"
      },
      "source": [
        "# Using Test/Train Split\n",
        "from sklearn.model_selection import train_test_split\n",
        "from numpy.random import seed\n",
        "\n",
        "# fix random seed for reproducibility\n",
        "seed = 7\n",
        "np.random.seed(seed)\n",
        "X_train, X_test, y_train, y_test = train_test_split(x_org,y_org, test_size=0.30, random_state=seed)\n",
        "\n",
        "# Feature Scaling\n",
        "# from sklearn.preprocessing import StandardScaler\n",
        "# sc = StandardScaler()\n",
        "# X_train = sc.fit_transform(X_train)\n",
        "# X_test = sc.transform(X_test)\n",
        "\n",
        "from sklearn.preprocessing import MinMaxScaler\n",
        "sc = MinMaxScaler(feature_range=(-1,1))\n",
        "X_train = sc.fit_transform(X_train)\n",
        "X_test = sc.transform(X_test)\n"
      ],
      "execution_count": null,
      "outputs": []
    },
    {
      "cell_type": "code",
      "metadata": {
        "id": "8GJfk4dwzM_H"
      },
      "source": [
        "# sc.mean_\n",
        "# sc.scale_"
      ],
      "execution_count": null,
      "outputs": []
    },
    {
      "cell_type": "code",
      "metadata": {
        "id": "XNBgd5BqN2Ns",
        "colab": {
          "base_uri": "https://localhost:8080/",
          "height": 1000
        },
        "outputId": "78574df0-02b2-4ee9-8fe4-d95fc989bcce"
      },
      "source": [
        "X_train"
      ],
      "execution_count": null,
      "outputs": [
        {
          "output_type": "execute_result",
          "data": {
            "text/plain": [
              "array([[-0.47368421,  0.6       , -0.16666667,  0.11111111],\n",
              "       [ 0.47368421,  1.        ,  1.        ,  0.22222222],\n",
              "       [-0.26315789,  1.        ,  0.        ,  0.66666667],\n",
              "       [ 0.89473684,  1.        ,  1.        ,  0.        ],\n",
              "       [ 0.36842105, -1.        , -1.        ,  1.        ],\n",
              "       [-0.68421053, -0.2       , -0.25      , -0.11111111],\n",
              "       [ 0.68421053, -1.        , -1.        ,  1.        ],\n",
              "       [-0.89473684,  0.6       ,  0.33333333,  0.22222222],\n",
              "       [ 0.26315789, -1.        , -1.        ,  0.88888889],\n",
              "       [ 0.05263158,  1.        ,  1.        ,  0.88888889],\n",
              "       [-0.78947368,  0.6       ,  0.41666667, -0.33333333],\n",
              "       [ 1.        , -1.        , -0.5       ,  0.22222222],\n",
              "       [ 0.36842105, -1.        , -1.        , -1.        ],\n",
              "       [ 1.        ,  1.        ,  1.        ,  0.        ],\n",
              "       [-0.89473684, -0.2       , -0.41666667, -0.22222222],\n",
              "       [ 0.05263158, -0.2       ,  1.        ,  0.11111111],\n",
              "       [ 0.68421053, -1.        , -0.83333333, -0.88888889],\n",
              "       [ 0.57894737, -0.2       , -0.16666667,  0.33333333],\n",
              "       [-0.15789474,  1.        , -0.16666667,  0.77777778],\n",
              "       [-1.        ,  0.6       , -0.16666667,  0.22222222],\n",
              "       [-0.05263158,  1.        ,  0.        ,  0.66666667],\n",
              "       [ 0.15789474, -1.        , -1.        ,  0.77777778],\n",
              "       [ 0.68421053, -0.2       ,  1.        ,  0.22222222],\n",
              "       [-0.89473684,  0.6       , -0.25      ,  0.11111111],\n",
              "       [-0.89473684,  0.6       , -0.16666667,  0.11111111],\n",
              "       [-0.57894737,  0.6       , -0.16666667,  0.22222222],\n",
              "       [ 0.78947368, -1.        , -0.83333333, -0.88888889],\n",
              "       [-0.26315789,  0.6       ,  0.16666667,  0.55555556],\n",
              "       [-0.68421053,  0.6       ,  0.25      , -0.22222222],\n",
              "       [ 0.57894737, -1.        , -1.        ,  1.        ],\n",
              "       [ 0.05263158,  1.        ,  1.        ,  0.44444444],\n",
              "       [-0.05263158,  0.6       , -0.33333333,  0.11111111],\n",
              "       [-0.36842105, -0.2       , -0.16666667,  0.22222222],\n",
              "       [-0.57894737,  0.6       , -0.66666667, -0.33333333],\n",
              "       [ 0.89473684, -1.        , -1.        ,  0.88888889],\n",
              "       [-0.05263158,  1.        ,  1.        ,  0.44444444],\n",
              "       [ 0.47368421, -1.        , -1.        ,  1.        ],\n",
              "       [-0.57894737,  0.6       , -0.58333333, -0.44444444],\n",
              "       [-0.89473684,  0.6       , -0.5       , -0.33333333],\n",
              "       [ 0.36842105,  1.        ,  1.        ,  0.33333333],\n",
              "       [ 1.        , -1.        , -0.83333333, -0.88888889],\n",
              "       [-0.57894737,  0.6       , -0.58333333, -0.33333333],\n",
              "       [ 0.68421053,  1.        ,  1.        ,  0.11111111],\n",
              "       [-0.05263158,  1.        ,  1.        ,  0.88888889],\n",
              "       [-0.68421053,  0.6       , -0.33333333, -0.33333333],\n",
              "       [-0.78947368,  0.6       , -0.33333333, -0.11111111],\n",
              "       [-1.        ,  0.6       , -0.66666667, -0.77777778],\n",
              "       [ 1.        , -0.2       ,  1.        ,  0.11111111],\n",
              "       [-0.36842105,  0.6       , -0.66666667, -0.33333333],\n",
              "       [ 0.57894737,  1.        ,  1.        ,  0.22222222],\n",
              "       [ 0.57894737, -1.        , -0.91666667, -0.88888889],\n",
              "       [-1.        ,  0.6       , -0.16666667,  0.33333333],\n",
              "       [-0.57894737, -0.2       , -0.16666667, -0.22222222],\n",
              "       [-0.26315789,  0.6       , -0.58333333, -0.11111111],\n",
              "       [-0.15789474, -0.2       , -0.08333333,  0.44444444],\n",
              "       [ 0.89473684, -1.        , -0.25      ,  0.22222222],\n",
              "       [ 1.        , -1.        , -1.        ,  0.77777778],\n",
              "       [-0.15789474,  0.6       , -0.33333333,  0.        ],\n",
              "       [-0.78947368, -0.2       , -0.25      ,  0.        ],\n",
              "       [ 0.26315789, -1.        , -0.5       , -0.88888889],\n",
              "       [ 0.47368421, -0.2       ,  0.16666667,  0.33333333],\n",
              "       [ 0.47368421, -0.2       ,  1.        ,  0.22222222],\n",
              "       [ 0.78947368,  1.        ,  1.        ,  0.11111111],\n",
              "       [ 0.26315789,  1.        ,  1.        ,  0.33333333],\n",
              "       [-0.68421053,  0.6       , -0.5       , -0.11111111],\n",
              "       [-0.68421053,  0.6       , -0.16666667,  0.        ],\n",
              "       [-0.26315789,  1.        ,  1.        ,  0.66666667],\n",
              "       [-0.47368421,  1.        ,  0.        ,  0.11111111],\n",
              "       [-0.15789474,  1.        ,  1.        ,  0.88888889],\n",
              "       [-0.26315789, -0.2       , -0.16666667,  0.33333333]])"
            ]
          },
          "metadata": {
            "tags": []
          },
          "execution_count": 37
        }
      ]
    },
    {
      "cell_type": "code",
      "metadata": {
        "id": "wt79-XSb9MZQ"
      },
      "source": [
        "# Building ANN As a Regressor\n",
        "from tensorflow import set_random_seed\n",
        "set_random_seed(seed)\n",
        "from keras.models import Sequential\n",
        "from keras.layers import Dense\n",
        "from keras.layers.normalization import BatchNormalization\n",
        "from keras import backend\n",
        "#from keras.wrappers.scikit_learn import KerasRegressor\n",
        "#from sklearn.model_selection import GridSearchCV\n",
        "#from sklearn.pipeline import Pipeline\n",
        "#Defining Root Mean Square Error As our Metric Function \n",
        "def rmse(y_true, y_pred):\n",
        "    return backend.sqrt(backend.mean(backend.square(y_pred - y_true), axis=-1))"
      ],
      "execution_count": null,
      "outputs": []
    },
    {
      "cell_type": "code",
      "metadata": {
        "id": "QYefM06Q9Qig",
        "colab": {
          "base_uri": "https://localhost:8080/",
          "height": 72
        },
        "outputId": "b9ead869-d130-480c-dd63-376c9b59b348"
      },
      "source": [
        "from numpy.random import seed\n",
        "seed(5)\n",
        "\n",
        "# create model\n",
        "\n",
        "model = Sequential()\n",
        "#Building  first layer Layers \n",
        "# model.add(Dense(8, input_dim=3, kernel_initializer='glorot_normal', activation = 'sigmoid', name=\"dense_input\" ))\n",
        "model.add(Dense(8,input_dim=4, kernel_initializer='glorot_normal', activation = 'sigmoid', name=\"dense_input\" ))\n",
        "# model.add(keras.layers.normalization.BatchNormalization())\n",
        "\n",
        "# Output Layer\n",
        "model.add(Dense(1, name=\"dense_output\", activation='linear'))\n",
        "# model.add(Dense(1, kernel_initializer='normal', name=\"dense_output\", use_bias=True, activation='linear'))"
      ],
      "execution_count": null,
      "outputs": [
        {
          "output_type": "stream",
          "text": [
            "WARNING:tensorflow:From /usr/local/lib/python3.6/dist-packages/keras/backend/tensorflow_backend.py:4479: The name tf.truncated_normal is deprecated. Please use tf.random.truncated_normal instead.\n",
            "\n"
          ],
          "name": "stdout"
        }
      ]
    },
    {
      "cell_type": "code",
      "metadata": {
        "id": "SDMA9DO_9SvP",
        "colab": {
          "base_uri": "https://localhost:8080/",
          "height": 1000
        },
        "outputId": "457c98f8-f9f5-4410-bee5-f9d98776be6e"
      },
      "source": [
        "#Optimize , Compile And Train The Model \n",
        "from keras import optimizers\n",
        "opt = optimizers.Adam(lr=0.9)\n",
        "# opt = optimizers.RMSprop(lr=0.02)\n",
        "# opt = optimizers.SGD(lr=0.001, momentum=0.6)\n",
        "\n",
        "model.compile(optimizer=opt,loss='mean_squared_error',metrics=[rmse])\n",
        "\n",
        "# history = model.fit(X_train,y_train,epochs = 100 ,batch_size=32,validation_split=0.1)\n",
        "history = model.fit(X_train,y_train,epochs = 60 ,batch_size=32,validation_split=0.1)\n",
        "print(model.summary())"
      ],
      "execution_count": null,
      "outputs": [
        {
          "output_type": "stream",
          "text": [
            "Train on 63 samples, validate on 7 samples\n",
            "Epoch 1/60\n",
            "63/63 [==============================] - 0s 3ms/step - loss: 4.3376 - rmse: 1.8340 - val_loss: 1.1237 - val_rmse: 0.9864\n",
            "Epoch 2/60\n",
            "63/63 [==============================] - 0s 173us/step - loss: 1.5285 - rmse: 1.0395 - val_loss: 0.8100 - val_rmse: 0.7073\n",
            "Epoch 3/60\n",
            "63/63 [==============================] - 0s 147us/step - loss: 1.2115 - rmse: 0.8231 - val_loss: 2.3408 - val_rmse: 1.3991\n",
            "Epoch 4/60\n",
            "63/63 [==============================] - 0s 153us/step - loss: 1.3144 - rmse: 0.9053 - val_loss: 0.6219 - val_rmse: 0.5499\n",
            "Epoch 5/60\n",
            "63/63 [==============================] - 0s 146us/step - loss: 0.3423 - rmse: 0.4612 - val_loss: 0.4932 - val_rmse: 0.6628\n",
            "Epoch 6/60\n",
            "63/63 [==============================] - 0s 199us/step - loss: 0.7480 - rmse: 0.7257 - val_loss: 0.5733 - val_rmse: 0.6639\n",
            "Epoch 7/60\n",
            "63/63 [==============================] - 0s 204us/step - loss: 0.7112 - rmse: 0.6760 - val_loss: 0.3517 - val_rmse: 0.5045\n",
            "Epoch 8/60\n",
            "63/63 [==============================] - 0s 198us/step - loss: 0.3946 - rmse: 0.4880 - val_loss: 0.8549 - val_rmse: 0.7974\n",
            "Epoch 9/60\n",
            "63/63 [==============================] - 0s 214us/step - loss: 0.5638 - rmse: 0.5827 - val_loss: 0.9126 - val_rmse: 0.8310\n",
            "Epoch 10/60\n",
            "63/63 [==============================] - 0s 185us/step - loss: 0.4873 - rmse: 0.5274 - val_loss: 0.4281 - val_rmse: 0.5369\n",
            "Epoch 11/60\n",
            "63/63 [==============================] - 0s 200us/step - loss: 0.3499 - rmse: 0.4325 - val_loss: 0.3234 - val_rmse: 0.4559\n",
            "Epoch 12/60\n",
            "63/63 [==============================] - 0s 186us/step - loss: 0.4269 - rmse: 0.4749 - val_loss: 0.3149 - val_rmse: 0.4421\n",
            "Epoch 13/60\n",
            "63/63 [==============================] - 0s 181us/step - loss: 0.3380 - rmse: 0.4398 - val_loss: 0.2937 - val_rmse: 0.3742\n",
            "Epoch 14/60\n",
            "63/63 [==============================] - 0s 180us/step - loss: 0.3407 - rmse: 0.4054 - val_loss: 0.5476 - val_rmse: 0.5140\n",
            "Epoch 15/60\n",
            "63/63 [==============================] - 0s 202us/step - loss: 0.3490 - rmse: 0.3845 - val_loss: 0.3608 - val_rmse: 0.4532\n",
            "Epoch 16/60\n",
            "63/63 [==============================] - 0s 198us/step - loss: 0.2367 - rmse: 0.3356 - val_loss: 0.2475 - val_rmse: 0.4167\n",
            "Epoch 17/60\n",
            "63/63 [==============================] - 0s 154us/step - loss: 0.2505 - rmse: 0.3542 - val_loss: 0.2843 - val_rmse: 0.4796\n",
            "Epoch 18/60\n",
            "63/63 [==============================] - 0s 147us/step - loss: 0.2332 - rmse: 0.3423 - val_loss: 0.3507 - val_rmse: 0.4971\n",
            "Epoch 19/60\n",
            "63/63 [==============================] - 0s 206us/step - loss: 0.1731 - rmse: 0.3096 - val_loss: 0.6453 - val_rmse: 0.6512\n",
            "Epoch 20/60\n",
            "63/63 [==============================] - 0s 177us/step - loss: 0.2130 - rmse: 0.3348 - val_loss: 0.4156 - val_rmse: 0.5539\n",
            "Epoch 21/60\n",
            "63/63 [==============================] - 0s 169us/step - loss: 0.1504 - rmse: 0.2979 - val_loss: 0.2123 - val_rmse: 0.3647\n",
            "Epoch 22/60\n",
            "63/63 [==============================] - 0s 189us/step - loss: 0.1544 - rmse: 0.3284 - val_loss: 0.2530 - val_rmse: 0.4123\n",
            "Epoch 23/60\n",
            "63/63 [==============================] - 0s 161us/step - loss: 0.1411 - rmse: 0.3069 - val_loss: 0.2375 - val_rmse: 0.3935\n",
            "Epoch 24/60\n",
            "63/63 [==============================] - 0s 182us/step - loss: 0.1178 - rmse: 0.2610 - val_loss: 0.2371 - val_rmse: 0.3438\n",
            "Epoch 25/60\n",
            "63/63 [==============================] - 0s 184us/step - loss: 0.1251 - rmse: 0.2758 - val_loss: 0.2203 - val_rmse: 0.3700\n",
            "Epoch 26/60\n",
            "63/63 [==============================] - 0s 145us/step - loss: 0.0969 - rmse: 0.2427 - val_loss: 0.2404 - val_rmse: 0.3920\n",
            "Epoch 27/60\n",
            "63/63 [==============================] - 0s 177us/step - loss: 0.1029 - rmse: 0.2345 - val_loss: 0.1949 - val_rmse: 0.3564\n",
            "Epoch 28/60\n",
            "63/63 [==============================] - 0s 129us/step - loss: 0.0897 - rmse: 0.2266 - val_loss: 0.1757 - val_rmse: 0.3339\n",
            "Epoch 29/60\n",
            "63/63 [==============================] - 0s 147us/step - loss: 0.0868 - rmse: 0.2238 - val_loss: 0.1896 - val_rmse: 0.3414\n",
            "Epoch 30/60\n",
            "63/63 [==============================] - 0s 151us/step - loss: 0.0836 - rmse: 0.2196 - val_loss: 0.1751 - val_rmse: 0.3180\n",
            "Epoch 31/60\n",
            "63/63 [==============================] - 0s 170us/step - loss: 0.0772 - rmse: 0.2049 - val_loss: 0.1526 - val_rmse: 0.2938\n",
            "Epoch 32/60\n",
            "63/63 [==============================] - 0s 222us/step - loss: 0.0837 - rmse: 0.2128 - val_loss: 0.1587 - val_rmse: 0.2982\n",
            "Epoch 33/60\n",
            "63/63 [==============================] - 0s 152us/step - loss: 0.0803 - rmse: 0.2066 - val_loss: 0.1612 - val_rmse: 0.3010\n",
            "Epoch 34/60\n",
            "63/63 [==============================] - 0s 176us/step - loss: 0.0735 - rmse: 0.1969 - val_loss: 0.1775 - val_rmse: 0.3134\n",
            "Epoch 35/60\n",
            "63/63 [==============================] - 0s 275us/step - loss: 0.0771 - rmse: 0.2080 - val_loss: 0.1560 - val_rmse: 0.3039\n",
            "Epoch 36/60\n",
            "63/63 [==============================] - 0s 170us/step - loss: 0.0704 - rmse: 0.1982 - val_loss: 0.1558 - val_rmse: 0.3051\n",
            "Epoch 37/60\n",
            "63/63 [==============================] - 0s 192us/step - loss: 0.0693 - rmse: 0.1917 - val_loss: 0.1585 - val_rmse: 0.3057\n",
            "Epoch 38/60\n",
            "63/63 [==============================] - 0s 169us/step - loss: 0.0658 - rmse: 0.1837 - val_loss: 0.1503 - val_rmse: 0.2996\n",
            "Epoch 39/60\n",
            "63/63 [==============================] - 0s 189us/step - loss: 0.0661 - rmse: 0.1837 - val_loss: 0.1529 - val_rmse: 0.2996\n",
            "Epoch 40/60\n",
            "63/63 [==============================] - 0s 188us/step - loss: 0.0624 - rmse: 0.1764 - val_loss: 0.1423 - val_rmse: 0.2926\n",
            "Epoch 41/60\n",
            "63/63 [==============================] - 0s 159us/step - loss: 0.0584 - rmse: 0.1696 - val_loss: 0.1369 - val_rmse: 0.2873\n",
            "Epoch 42/60\n",
            "63/63 [==============================] - 0s 175us/step - loss: 0.0585 - rmse: 0.1719 - val_loss: 0.1338 - val_rmse: 0.2863\n",
            "Epoch 43/60\n",
            "63/63 [==============================] - 0s 168us/step - loss: 0.0570 - rmse: 0.1823 - val_loss: 0.1450 - val_rmse: 0.2956\n",
            "Epoch 44/60\n",
            "63/63 [==============================] - 0s 156us/step - loss: 0.0592 - rmse: 0.1801 - val_loss: 0.1324 - val_rmse: 0.3089\n",
            "Epoch 45/60\n",
            "63/63 [==============================] - 0s 216us/step - loss: 0.0606 - rmse: 0.1731 - val_loss: 0.1249 - val_rmse: 0.3200\n",
            "Epoch 46/60\n",
            "63/63 [==============================] - 0s 212us/step - loss: 0.0563 - rmse: 0.1709 - val_loss: 0.1500 - val_rmse: 0.3123\n",
            "Epoch 47/60\n",
            "63/63 [==============================] - 0s 181us/step - loss: 0.0613 - rmse: 0.1743 - val_loss: 0.1164 - val_rmse: 0.2797\n",
            "Epoch 48/60\n",
            "63/63 [==============================] - 0s 156us/step - loss: 0.0498 - rmse: 0.1625 - val_loss: 0.0999 - val_rmse: 0.2505\n",
            "Epoch 49/60\n",
            "63/63 [==============================] - 0s 146us/step - loss: 0.0694 - rmse: 0.1743 - val_loss: 0.1067 - val_rmse: 0.2568\n",
            "Epoch 50/60\n",
            "63/63 [==============================] - 0s 153us/step - loss: 0.0715 - rmse: 0.1879 - val_loss: 0.1521 - val_rmse: 0.2831\n",
            "Epoch 51/60\n",
            "63/63 [==============================] - 0s 148us/step - loss: 0.0605 - rmse: 0.1654 - val_loss: 0.1124 - val_rmse: 0.2979\n",
            "Epoch 52/60\n",
            "63/63 [==============================] - 0s 160us/step - loss: 0.0684 - rmse: 0.1958 - val_loss: 0.1132 - val_rmse: 0.2831\n",
            "Epoch 53/60\n",
            "63/63 [==============================] - 0s 145us/step - loss: 0.0630 - rmse: 0.1732 - val_loss: 0.1301 - val_rmse: 0.2689\n",
            "Epoch 54/60\n",
            "63/63 [==============================] - 0s 146us/step - loss: 0.0621 - rmse: 0.1803 - val_loss: 0.1268 - val_rmse: 0.2693\n",
            "Epoch 55/60\n",
            "63/63 [==============================] - 0s 182us/step - loss: 0.0538 - rmse: 0.1644 - val_loss: 0.1356 - val_rmse: 0.3204\n",
            "Epoch 56/60\n",
            "63/63 [==============================] - 0s 156us/step - loss: 0.0673 - rmse: 0.1785 - val_loss: 0.1577 - val_rmse: 0.3610\n",
            "Epoch 57/60\n",
            "63/63 [==============================] - 0s 139us/step - loss: 0.0621 - rmse: 0.1718 - val_loss: 0.2022 - val_rmse: 0.3660\n",
            "Epoch 58/60\n",
            "63/63 [==============================] - 0s 117us/step - loss: 0.0620 - rmse: 0.1696 - val_loss: 0.1380 - val_rmse: 0.3283\n",
            "Epoch 59/60\n",
            "63/63 [==============================] - 0s 131us/step - loss: 0.0550 - rmse: 0.1572 - val_loss: 0.1363 - val_rmse: 0.3156\n",
            "Epoch 60/60\n",
            "63/63 [==============================] - 0s 111us/step - loss: 0.0507 - rmse: 0.1550 - val_loss: 0.1964 - val_rmse: 0.3379\n",
            "Model: \"sequential_3\"\n",
            "_________________________________________________________________\n",
            "Layer (type)                 Output Shape              Param #   \n",
            "=================================================================\n",
            "dense_input (Dense)          (None, 8)                 40        \n",
            "_________________________________________________________________\n",
            "dense_output (Dense)         (None, 1)                 9         \n",
            "=================================================================\n",
            "Total params: 49\n",
            "Trainable params: 49\n",
            "Non-trainable params: 0\n",
            "_________________________________________________________________\n",
            "None\n"
          ],
          "name": "stdout"
        }
      ]
    },
    {
      "cell_type": "code",
      "metadata": {
        "id": "x6PUe5puLTNi"
      },
      "source": [
        "# weight_H1= pd.DataFrame(model.layers[0].get_weights())\n",
        "# weight_H1\n",
        "# model.layers[0].get_weights()\n",
        "# model.layers[1].get_weights()"
      ],
      "execution_count": null,
      "outputs": []
    },
    {
      "cell_type": "code",
      "metadata": {
        "id": "wlTrupl1YtVJ"
      },
      "source": [
        "# save model and architecture to single file\n",
        "# model.save(\"model_PI.h5\")\n",
        "# print(\"Saved model to disk\")"
      ],
      "execution_count": null,
      "outputs": []
    },
    {
      "cell_type": "code",
      "metadata": {
        "id": "2bi6m6Ft9W0I",
        "colab": {
          "base_uri": "https://localhost:8080/",
          "height": 34
        },
        "outputId": "c6ff9590-c5c9-47b5-9dea-a31323a436fd"
      },
      "source": [
        "# Predicting and Finding R Squared Score\n",
        "\n",
        "y_predict = model.predict(X_test)\n",
        "\n",
        "from sklearn.metrics import r2_score\n",
        "print(r2_score(y_test,y_predict))\n",
        "print(mean_absolute_error(y_test,y_predict))"
      ],
      "execution_count": null,
      "outputs": [
        {
          "output_type": "stream",
          "text": [
            "0.8464856671473351\n"
          ],
          "name": "stdout"
        }
      ]
    },
    {
      "cell_type": "code",
      "metadata": {
        "id": "L1pjWKnTRhYk"
      },
      "source": [
        "# from ann_visualizer.visualize import ann_viz;\n",
        "\n",
        "# ann_viz(model, view=True, filename=\"network.gv\", title=\"My NN graph\")"
      ],
      "execution_count": null,
      "outputs": []
    },
    {
      "cell_type": "code",
      "metadata": {
        "id": "rEIEehd_9bdg",
        "colab": {
          "base_uri": "https://localhost:8080/",
          "height": 573
        },
        "outputId": "eb6037b8-9e06-4323-a456-ecd0302377be"
      },
      "source": [
        "# Plotting Loss And Root Mean Square Error For both Training And Test Sets\n",
        "plt.plot(history.history['rmse'])\n",
        "plt.plot(history.history['val_rmse'])\n",
        "plt.title('Root Mean Squared Error')\n",
        "plt.ylabel('rmse')\n",
        "plt.xlabel('epoch')\n",
        "plt.legend(['train', 'test'], loc='upper left')\n",
        "plt.show()\n",
        "\n",
        "# summarize history for loss\n",
        "plt.plot(history.history['loss'])\n",
        "plt.plot(history.history['val_loss'])\n",
        "plt.title('model loss')\n",
        "plt.ylabel('loss')\n",
        "plt.xlabel('epoch')\n",
        "plt.legend(['train', 'test'], loc='upper left')\n",
        "plt.savefig('4.png')\n",
        "plt.show()"
      ],
      "execution_count": null,
      "outputs": [
        {
          "output_type": "display_data",
          "data": {
            "image/png": "[encoded data removed]",
            "text/plain": [
              "<Figure size 432x288 with 1 Axes>"
            ]
          },
          "metadata": {
            "tags": []
          }
        },
        {
          "output_type": "display_data",
          "data": {
            "image/png": "[encoded data removed]",
            "text/plain": [
              "<Figure size 432x288 with 1 Axes>"
            ]
          },
          "metadata": {
            "tags": []
          }
        }
      ]
    },
    {
      "cell_type": "code",
      "metadata": {
        "id": "mgNeGsEB9glh",
        "colab": {
          "base_uri": "https://localhost:8080/",
          "height": 550
        },
        "outputId": "92cea2f7-88fc-49da-be36-400034ae4fd6"
      },
      "source": [
        "y_predict"
      ],
      "execution_count": null,
      "outputs": [
        {
          "output_type": "execute_result",
          "data": {
            "text/plain": [
              "array([[ 0.01083493],\n",
              "       [ 1.0113435 ],\n",
              "       [-0.04467654],\n",
              "       [ 0.6114847 ],\n",
              "       [ 1.0879809 ],\n",
              "       [ 0.38548285],\n",
              "       [ 0.5394012 ],\n",
              "       [ 0.6476496 ],\n",
              "       [ 1.1134409 ],\n",
              "       [ 1.0466083 ],\n",
              "       [ 0.4001137 ],\n",
              "       [ 1.4197326 ],\n",
              "       [ 0.5727374 ],\n",
              "       [ 0.40714693],\n",
              "       [ 0.5937259 ],\n",
              "       [ 1.6281044 ],\n",
              "       [ 0.4112451 ],\n",
              "       [ 1.2859247 ],\n",
              "       [ 0.1528508 ],\n",
              "       [ 0.35468692],\n",
              "       [ 0.6569909 ],\n",
              "       [ 1.5801544 ],\n",
              "       [ 0.36977953],\n",
              "       [ 1.5725405 ],\n",
              "       [ 3.1539383 ],\n",
              "       [-0.22942162],\n",
              "       [ 0.6114847 ],\n",
              "       [ 0.1569367 ],\n",
              "       [-0.00764632],\n",
              "       [ 1.0789847 ]], dtype=float32)"
            ]
          },
          "metadata": {
            "tags": []
          },
          "execution_count": 58
        }
      ]
    },
    {
      "cell_type": "code",
      "metadata": {
        "id": "bEL724JU90zQ",
        "colab": {
          "base_uri": "https://localhost:8080/",
          "height": 70
        },
        "outputId": "ac3d3923-7277-4c4c-ca8d-9bd41645a351"
      },
      "source": [
        "y_test"
      ],
      "execution_count": null,
      "outputs": [
        {
          "output_type": "execute_result",
          "data": {
            "text/plain": [
              "array([0. , 0.8, 0. , 0.6, 1. , 0.3, 0.7, 0.5, 0.9, 1.6, 0.3, 0.6, 0.6,\n",
              "       0.2, 0.6, 1.8, 0.3, 1.4, 0.4, 0.3, 0.7, 0.8, 0.2, 1.4, 3.4, 0.1,\n",
              "       0.6, 0. , 0. , 1. ])"
            ]
          },
          "metadata": {
            "tags": []
          },
          "execution_count": 59
        }
      ]
    },
    {
      "cell_type": "code",
      "metadata": {
        "id": "m1jHVMDrO0CS",
        "colab": {
          "base_uri": "https://localhost:8080/",
          "height": 550
        },
        "outputId": "90934a34-c3d3-4fb6-a2f7-7f9cd5e9f273"
      },
      "source": [
        "X_test"
      ],
      "execution_count": null,
      "outputs": [
        {
          "output_type": "execute_result",
          "data": {
            "text/plain": [
              "array([[ 0.78947368, -1.        , -1.        ,  1.        ],\n",
              "       [-0.36842105,  1.        ,  0.41666667,  0.44444444],\n",
              "       [ 0.89473684, -1.        , -0.83333333, -0.88888889],\n",
              "       [ 0.15789474,  1.        ,  1.        ,  0.33333333],\n",
              "       [-0.05263158, -0.2       ,  0.        ,  0.44444444],\n",
              "       [ 0.57894737, -0.2       ,  1.        ,  0.22222222],\n",
              "       [ 0.36842105,  1.        ,  1.        ,  0.33333333],\n",
              "       [ 0.15789474,  1.        ,  1.        ,  0.77777778],\n",
              "       [-0.36842105,  0.6       ,  0.16666667,  0.44444444],\n",
              "       [-0.78947368,  0.6       ,  0.33333333,  0.        ],\n",
              "       [ 0.36842105, -0.2       ,  1.        ,  0.22222222],\n",
              "       [-1.        , -0.2       , -0.58333333, -0.66666667],\n",
              "       [ 0.26315789,  1.        ,  1.        ,  0.33333333],\n",
              "       [ 0.26315789, -0.2       ,  1.        ,  0.22222222],\n",
              "       [-0.15789474,  1.        ,  1.        ,  0.44444444],\n",
              "       [-0.47368421, -0.2       , -0.25      ,  0.        ],\n",
              "       [ 0.15789474, -0.2       ,  1.        ,  0.11111111],\n",
              "       [-0.36842105,  0.6       , -0.33333333,  0.44444444],\n",
              "       [-1.        ,  0.6       ,  0.16666667,  0.55555556],\n",
              "       [ 0.89473684, -0.2       ,  1.        ,  0.11111111],\n",
              "       [ 0.05263158,  1.        ,  1.        ,  0.44444444],\n",
              "       [-0.78947368,  0.6       ,  0.08333333, -0.11111111],\n",
              "       [ 0.78947368, -0.2       ,  1.        ,  0.22222222],\n",
              "       [-0.47368421,  0.6       , -0.25      ,  0.33333333],\n",
              "       [-0.47368421,  0.6       , -0.25      , -0.44444444],\n",
              "       [ 0.78947368, -1.        ,  0.08333333,  0.22222222],\n",
              "       [ 0.15789474,  1.        ,  1.        ,  0.33333333],\n",
              "       [ 0.05263158, -1.        , -0.91666667,  0.66666667],\n",
              "       [ 0.47368421, -1.        , -1.08333333, -1.        ],\n",
              "       [ 0.68421053, -0.2       , -0.08333333,  0.22222222]])"
            ]
          },
          "metadata": {
            "tags": []
          },
          "execution_count": 60
        }
      ]
    },
    {
      "cell_type": "code",
      "metadata": {
        "id": "wtUwVPvu9kQv",
        "colab": {
          "base_uri": "https://localhost:8080/",
          "height": 315
        },
        "outputId": "08b3c301-4911-415c-8997-ec1537ab58c5"
      },
      "source": [
        "#Plot scatter  of predictions\n",
        "plt.suptitle('Scatter of predicitons on test data', fontsize=20)\n",
        "plt.xlabel('True value', fontsize=18)\n",
        "plt.ylabel('Predicted value', fontsize=16)\n",
        "plt.scatter(y_test, y_predict)\n",
        "\n",
        "plt.show()"
      ],
      "execution_count": null,
      "outputs": [
        {
          "output_type": "display_data",
          "data": {
            "image/png": "[encoded data removed]",
            "text/plain": [
              "<Figure size 432x288 with 1 Axes>"
            ]
          },
          "metadata": {
            "tags": []
          }
        }
      ]
    },
    {
      "cell_type": "code",
      "metadata": {
        "id": "yDHWdNvs9qKA"
      },
      "source": [
        "# Write to csv format\n",
        "# data['Settlement'] = pd.Series(y_predict.reshape(1, -1)[0])\n",
        "# predicted_data = pd.concat([data['Settlement']])\n",
        "# predicted_data.to_csv('predicted_Norm_data.csv', index=False)"
      ],
      "execution_count": null,
      "outputs": []
    },
    {
      "cell_type": "code",
      "metadata": {
        "id": "UXdej95-9_EI",
        "colab": {
          "base_uri": "https://localhost:8080/",
          "height": 72
        },
        "outputId": "047e146f-664b-4696-c49e-12ac288d9e24"
      },
      "source": [
        "# from google.colab import files\n",
        "# # Write to csv format\n",
        "# data['Settlement'] = pd.Series(y_predict.reshape(1, -1)[0])\n",
        "# predicted_data = pd.concat([data['Settlement']])\n",
        "# predicted_data.to_csv('Pred_settlement_data2.csv', index=False)\n",
        "# files.download('Pred_settlement_data2.csv')"
      ],
      "execution_count": null,
      "outputs": [
        {
          "output_type": "stream",
          "text": [
            "/usr/local/lib/python3.6/dist-packages/ipykernel_launcher.py:5: FutureWarning: The signature of `Series.to_csv` was aligned to that of `DataFrame.to_csv`, and argument 'header' will change its default value from False to True: please pass an explicit value to suppress this warning.\n",
            "  \"\"\"\n"
          ],
          "name": "stderr"
        }
      ]
    },
    {
      "cell_type": "code",
      "metadata": {
        "id": "yX040X-m0FYv"
      },
      "source": [
        "from google.colab import files\n",
        "# Write to csv format\n",
        "history_rmse= pd.Series(history.history['rmse'].reshape(1, -1)[0])\n",
        "history_rmse = pd.Series(history.history['rmse'])\n",
        "history_val_rmse = pd.Series(history.history['val_rmse'])\n",
        "history_loss = pd.Series(history.history['loss'])\n",
        "history_val_loss = pd.Series(history.history['val_loss'])\n",
        "metric_data = pd.concat([pd.DataFrame(history_rmse), pd.DataFrame(history_val_rmse), pd.DataFrame(history_loss), pd.DataFrame(history_val_loss)], axis=1)\n",
        "metric_data.to_csv('Metric_settlement_data2.csv', index=False)\n",
        "files.download('Metric_settlement_data2.csv')\n",
        "# history['rmse']"
      ],
      "execution_count": null,
      "outputs": []
    },
    {
      "cell_type": "code",
      "metadata": {
        "id": "iy5bPXGmwcX_"
      },
      "source": [
        ""
      ],
      "execution_count": null,
      "outputs": []
    }
  ]
}